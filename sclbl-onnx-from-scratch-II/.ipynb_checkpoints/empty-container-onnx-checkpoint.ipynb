{
 "cells": [
  {
   "cell_type": "markdown",
   "metadata": {},
   "source": [
    "> This code accompanies the \"[Creating ONNX from scratch II]()\" tutorial.\n",
    "\n",
    "# Block 0: Creating the reference image\n",
    "In this first block of code we open all the images of the empty container and compute its average using Pillow and Numpy. We will eventually use this \"empty-average.JPG\" as a reference to recognize whether the container is empty or not."
   ]
  },
  {
   "cell_type": "code",
   "execution_count": 132,
   "metadata": {},
   "outputs": [],
   "source": [
    "import os\n",
    "import numpy as np\n",
    "from PIL import Image\n",
    "\n",
    "## Setup:\n",
    "image_folder = \"images/\"\n",
    "empty_containers = [2,3,5,8,9,12,13]\n",
    "full_containers = [1,4,6,7,10,11,14]\n",
    "all_containers = empty_containers+full_containers\n",
    "\n",
    "# Get number of images, image width, and image height:\n",
    "n_empty = len(empty_containers)\n",
    "image_width, image_height=Image.open(image_folder + str(empty_containers[0])+\".JPG\").size\n",
    "\n",
    "# Create a numpy array of ints to store the average (assume RGB images)\n",
    "avarr=np.zeros((h,w,3),np.int64)\n",
    "\n",
    "# Build up average pixel intensities, casting each image as an array of ints\n",
    "for i in empty_containers:\n",
    "#    imarr=np.array(Image.open(\"images/empty/\"+im),dtype=np.int64)\n",
    "#    avarr=avarr+imarr/N\n",
    "\n",
    "# Round values in array and cast as 8-bit integer\n",
    "#avarr=np.array(np.round(arr),dtype=np.uint8)\n",
    "\n",
    "# Generate, save and preview final image\n",
    "#out=Image.fromarray(avarr,mode=\"RGB\")\n",
    "#out.save(\"images/empty-average.JPG\")\n",
    "#out.show()"
   ]
  },
  {
   "cell_type": "code",
   "execution_count": 123,
   "metadata": {},
   "outputs": [],
   "source": [
    "# All the neccesary imports for blocks 1-X\n",
    "from onnx import helper as h\n",
    "from onnx import TensorProto as tp\n",
    "from onnx import checker\n",
    "from onnx import save\n",
    "\n",
    "# The baseline empty container image (average of the 7 empty images)\n",
    "baseline=np.array(Image.open(\"images/empty-average.jpg\"),dtype=np.int64)\n",
    "\n",
    "# The baseline image as ONNX constant:\n",
    "c_base = h.make_node('Constant', inputs=[], outputs=['c_base'], name=\"c_base_node\", \n",
    "        value=h.make_tensor(name=\"c_base_value\", data_type=tp.INT64, \n",
    "        dims=baseline.shape, \n",
    "        vals=baseline.flatten()))\n",
    "\n",
    "# The cut-off value as ONNX constant\n",
    "cutval = numpy.array([3000000]).astype(numpy.int64)\n",
    "c_cut = h.make_node('Constant', inputs=[], outputs=['c_cut'], name=\"c_cut_node\", \n",
    "        value=h.make_tensor(name=\"c1v\", data_type=tp.INT64, \n",
    "        dims=cutval.shape, \n",
    "        vals=cutval.flatten()))\n",
    "\n",
    "# The functional nodes:\n",
    "n1 = h.make_node('Sub', inputs=['xin', 'c_base'], outputs=['min'], name='n1')  # substract input from baseline\n",
    "n2 = h.make_node('Abs', inputs=['min'], outputs=['abs'], name=\"n2\")  # absolute difference\n",
    "n3 = h.make_node('ReduceSum', inputs=['abs'], outputs=['sum'], name=\"n3\")  # sum the absolute differences\n",
    "n4 = h.make_node('Less', inputs=['sum','c_cut'], outputs=['out'], name=\"n4\")  # see if the sum is less than c_cut\n",
    "\n",
    "# Create the graph\n",
    "g1 = h.make_graph([c_base, c_cut, n1,n2,n3,n4], 'convert_image',\n",
    "        [h.make_tensor_value_info('xin', tp.INT64, target.shape)],\n",
    "        [h.make_tensor_value_info('out', tp.BOOL, [1])])\n",
    "\n",
    "# Create the model and check\n",
    "m1 = h.make_model(g1, producer_name='scailable-demo')\n",
    "checker.check_model(m1)\n",
    "\n",
    "# Save the model\n",
    "save(m1, 'check-empty.onnx')"
   ]
  },
  {
   "cell_type": "code",
   "execution_count": 126,
   "metadata": {},
   "outputs": [
    {
     "name": "stdout",
     "output_type": "stream",
     "text": [
      "Checking images/empty folder:\n",
      "The container is empty: [ True]\n",
      "The container is empty: [ True]\n",
      "The container is empty: [ True]\n",
      "The container is empty: [ True]\n",
      "The container is empty: [ True]\n",
      "The container is empty: [ True]\n",
      "Checking images/full folder:\n",
      "The container is empty: [False]\n",
      "The container is empty: [False]\n",
      "The container is empty: [False]\n",
      "The container is empty: [False]\n",
      "The container is empty: [False]\n",
      "The container is empty: [False]\n",
      "The container is empty: [False]\n",
      "The container is empty: [False]\n",
      "The container is empty: [False]\n"
     ]
    }
   ],
   "source": [
    "# A few lines to evaluate the stored model, useful for debugging:\n",
    "import onnxruntime as rt\n",
    "\n",
    "# Open the model:\n",
    "sess = rt.InferenceSession(\"check-empty.onnx\")  # Start the inference session and open the model\n",
    "\n",
    "# Test all the empty images\n",
    "print(\"Checking images/empty folder:\")\n",
    "for i in range(1,7):\n",
    "    target=numpy.array(Image.open(\"images/empty/{}.jpg\".format(i)),dtype=numpy.int64)    \n",
    "    out = sess.run([\"out\"], {\"xin\": target.astype(numpy.int64)})  \n",
    "    print(\"The container is empty: {}\".format(out[0].flatten()))\n",
    "\n",
    "# Test all the non-empty images:\n",
    "print(\"Checking images/full folder:\")\n",
    "for i in range(8,17):\n",
    "    target=numpy.array(Image.open(\"images/full/{}.jpg\".format(i)),dtype=numpy.int64)\n",
    "    out = sess.run([\"out\"], {\"xin\": target.astype(numpy.int64)})  \n",
    "    print(\"The container is empty: {}\".format(out[0].flatten()))"
   ]
  },
  {
   "cell_type": "code",
   "execution_count": null,
   "metadata": {},
   "outputs": [],
   "source": []
  }
 ],
 "metadata": {
  "kernelspec": {
   "display_name": "Python 3",
   "language": "python",
   "name": "python3"
  },
  "language_info": {
   "codemirror_mode": {
    "name": "ipython",
    "version": 3
   },
   "file_extension": ".py",
   "mimetype": "text/x-python",
   "name": "python",
   "nbconvert_exporter": "python",
   "pygments_lexer": "ipython3",
   "version": "3.7.5"
  }
 },
 "nbformat": 4,
 "nbformat_minor": 4
}
