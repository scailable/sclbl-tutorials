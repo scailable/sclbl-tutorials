{
 "cells": [
  {
   "cell_type": "markdown",
   "metadata": {},
   "source": [
    "> This code accompanies the \"[Creating ONNX from scratch II]()\" tutorial.\n",
    "\n",
    "# Block 0: Creating the reference image\n",
    "In this first block of code we open all the images of the empty container and compute its average using Pillow and Numpy. We will eventually use this \"empty-average.JPG\" as a reference to recognize whether the container is empty or not."
   ]
  },
  {
   "cell_type": "code",
   "execution_count": 146,
   "metadata": {},
   "outputs": [],
   "source": [
    "import numpy as np\n",
    "from PIL import Image\n",
    "\n",
    "## Setup:\n",
    "image_folder = \"images/\"\n",
    "empty_containers = [2,3,5,8,9,12,13]\n",
    "full_containers = [1,4,6,7,10,11,14]\n",
    "all_containers = empty_containers+full_containers\n",
    "\n",
    "# Get number of images, image width, and image height:\n",
    "n_empty = len(empty_containers)\n",
    "image_width, image_height=Image.open(image_folder + str(empty_containers[0])+\".JPG\").size\n",
    "\n",
    "\n",
    "# Create a numpy array of ints to store the average (assume RGB images)\n",
    "av_arr=np.zeros((image_height,image_width,3),np.int64)\n",
    "\n",
    "# Build up average pixel intensities, casting each image as an array of ints\n",
    "for i in empty_containers:\n",
    "    im_arr=np.array(Image.open(image_folder + str(empty_containers[0])+\".JPG\"),dtype=np.int64)\n",
    "    av_arr=av_arr+im_arr/n_empty\n",
    "\n",
    "# Round values in array and cast as 8-bit integer\n",
    "av_arr=np.array(np.round(av_arr),dtype=np.uint8)\n",
    "\n",
    "# Generate and save the average empty container image\n",
    "out=Image.fromarray(avarr,mode=\"RGB\")\n",
    "out.save(image_folder+\"empty-average.JPG\")\n",
    "out.show()"
   ]
  },
  {
   "cell_type": "markdown",
   "metadata": {},
   "source": [
    "# Block 1: Generating our ONNX image processing pipeline.\n",
    "The code below generates our ONNX image processing pipeline. The pipeline is as follows:\n",
    "\n",
    "- We substract the \"empty-average.JPG\" from a given image.\n",
    "- We compute the absolute value of the remaining difference.\n",
    "- We sum the array of image (absolute) color values in the difference to a single number.\n",
    "- We check if the number is larger than some treshhold.\n",
    "\n",
    "The logic of this implementation is simple: compare to the (average) empty image, an image of an empty container should be relatively similar, i.e., its absolute difference should be small. If however the container is full, the image is different, and thus its summed absolute difference compared to the reference image should be large."
   ]
  },
  {
   "cell_type": "code",
   "execution_count": 147,
   "metadata": {},
   "outputs": [],
   "source": [
    "# The imports used in this block\n",
    "from onnx import helper as h\n",
    "from onnx import TensorProto as tp\n",
    "from onnx import checker\n",
    "from onnx import save\n",
    "\n",
    "\n",
    "# 1. We start by opening the reference image and creating the neccesary ONNX constants:\n",
    "\n",
    "# The baseline empty container image (average of the 7 empty images)\n",
    "reference_image=np.array(Image.open(image_folder+\"empty-average.JPG\"),dtype=np.int64)\n",
    "\n",
    "# The baseline image as ONNX constant:\n",
    "c_base = h.make_node('Constant', inputs=[], outputs=['c_base'], name=\"c_base_node\", \n",
    "        value=h.make_tensor(name=\"c_base_value\", data_type=tp.INT64, \n",
    "        dims=reference_image.shape, \n",
    "        vals=reference_image.flatten()))\n",
    "\n",
    "# The treshold value as ONNX constant; here we select an average of 25 points off (3000000=300*400*25)\n",
    "image_treshold = numpy.array([3000000]).astype(numpy.int64)\n",
    "c_cut = h.make_node('Constant', inputs=[], outputs=['c_cut'], name=\"c_cut_node\", \n",
    "        value=h.make_tensor(name=\"c1v\", data_type=tp.INT64, \n",
    "        dims=image_treshold.shape, \n",
    "        vals=image_treshold.flatten()))\n",
    "\n",
    "\n",
    "# 2. Next, we declare the funtional ONNX nodes in order of appearance:\n",
    "\n",
    "# Substract input xin from baseline\n",
    "n1 = h.make_node('Sub', inputs=['xin', 'c_base'], outputs=['min'], name='n1')  \n",
    "\n",
    "# Compute absolute values of the remaining difference\n",
    "n2 = h.make_node('Abs', inputs=['min'], outputs=['abs'], name=\"n2\")  \n",
    "\n",
    "# Sum all the absolute differences\n",
    "n3 = h.make_node('ReduceSum', inputs=['abs'], outputs=['sum'], name=\"n3\", keepdims=0)  \n",
    "\n",
    "# See if the sum is less than image_treshold; if it is the image is empty\n",
    "n4 = h.make_node('Less', inputs=['sum','c_cut'], outputs=['out'], name=\"n4\")  \n",
    "\n",
    "\n",
    "# 3. Finally, we create the resulting ONNX graph\n",
    "\n",
    "# Create the graph\n",
    "g1 = h.make_graph([c_base, c_cut, n1,n2,n3,n4], 'convert_image',\n",
    "        [h.make_tensor_value_info('xin', tp.INT64, target.shape)],\n",
    "        [h.make_tensor_value_info('out', tp.BOOL, [1])])\n",
    "\n",
    "# Create the model and check\n",
    "m1 = h.make_model(g1, producer_name='scailable-demo')\n",
    "checker.check_model(m1)\n",
    "\n",
    "# Save the model\n",
    "save(m1, 'empty-container.onnx')"
   ]
  },
  {
   "cell_type": "markdown",
   "metadata": {},
   "source": [
    "# Block 2: Testing\n",
    "In this block of code we test the created ONNX pipeline using the ONNX runtime. Clearly, all images are classified correctly:"
   ]
  },
  {
   "cell_type": "code",
   "execution_count": 148,
   "metadata": {},
   "outputs": [
    {
     "name": "stdout",
     "output_type": "stream",
     "text": [
      "Iterating through all images\n",
      "Container 2 is empty True, and it is classified as empty [ True].\n",
      "Container 3 is empty True, and it is classified as empty [ True].\n",
      "Container 5 is empty True, and it is classified as empty [ True].\n",
      "Container 8 is empty True, and it is classified as empty [ True].\n",
      "Container 9 is empty True, and it is classified as empty [ True].\n",
      "Container 12 is empty True, and it is classified as empty [ True].\n",
      "Container 13 is empty True, and it is classified as empty [ True].\n",
      "Container 1 is empty False, and it is classified as empty [False].\n",
      "Container 4 is empty False, and it is classified as empty [False].\n",
      "Container 6 is empty False, and it is classified as empty [False].\n",
      "Container 7 is empty False, and it is classified as empty [False].\n",
      "Container 10 is empty False, and it is classified as empty [False].\n",
      "Container 11 is empty False, and it is classified as empty [False].\n",
      "Container 14 is empty False, and it is classified as empty [False].\n"
     ]
    }
   ],
   "source": [
    "# A few lines to evaluate the stored model, useful for debugging:\n",
    "import onnxruntime as rt\n",
    "\n",
    "# Open the model:\n",
    "sess = rt.InferenceSession(\"empty-container.onnx\")  \n",
    "\n",
    "# Test all the empty images\n",
    "print(\"Iterating through all images\")\n",
    "for i in all_containers:\n",
    "    \n",
    "    # Get whether in reality the container is empty\n",
    "    true_empty = i in empty_containers\n",
    "    \n",
    "    # Check image using the ONNX pipeline\n",
    "    target=numpy.array(Image.open(image_folder + str(i)+\".JPG\"),dtype=numpy.int64)    \n",
    "    out = sess.run([\"out\"], {\"xin\": target.astype(numpy.int64)})  \n",
    "    print(\"Container {} is empty {}, and it is classified as empty {}.\".format(i, true_empty, out[0].flatten()))\n"
   ]
  },
  {
   "cell_type": "markdown",
   "metadata": {},
   "source": [
    "# Continue...\n",
    "In the [tutorial]() we continue to show how to use the resulting ONNX pipeline and convert it to WebAssembly for fast deployment..."
   ]
  },
  {
   "cell_type": "code",
   "execution_count": null,
   "metadata": {},
   "outputs": [],
   "source": []
  }
 ],
 "metadata": {
  "kernelspec": {
   "display_name": "Python 3",
   "language": "python",
   "name": "python3"
  },
  "language_info": {
   "codemirror_mode": {
    "name": "ipython",
    "version": 3
   },
   "file_extension": ".py",
   "mimetype": "text/x-python",
   "name": "python",
   "nbconvert_exporter": "python",
   "pygments_lexer": "ipython3",
   "version": "3.7.5"
  }
 },
 "nbformat": 4,
 "nbformat_minor": 4
}
